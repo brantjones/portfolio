{
 "cells": [
  {
   "cell_type": "markdown",
   "metadata": {},
   "source": [
    "# Project recommendations for repeat donors\n",
    "\n",
    "Here, we are interested in analyzing a dataset posted by DonorsChoose.org, an organization that matches requests (projects) from public school teachers with individual donors.  The goal is to use natural language features from the project descriptions in order to recommend specific classroom requests to prior donors.  In contrast to many of the datasets hosted on kaggle, there is no withheld test data or evaluation metric, so justifying the effectiveness of analysis is part of the project.  This problem is also a nice example of using \"data science for good\" to improve a non-profit in the education space. See https://www.kaggle.com/donorschoose/io for the data files.\n",
    "\n",
    "The first step for our analysis is to load the data."
   ]
  },
  {
   "cell_type": "code",
   "execution_count": 1,
   "metadata": {},
   "outputs": [
    {
     "data": {
      "text/html": [
       "<div>\n",
       "<style scoped>\n",
       "    .dataframe tbody tr th:only-of-type {\n",
       "        vertical-align: middle;\n",
       "    }\n",
       "\n",
       "    .dataframe tbody tr th {\n",
       "        vertical-align: top;\n",
       "    }\n",
       "\n",
       "    .dataframe thead th {\n",
       "        text-align: right;\n",
       "    }\n",
       "</style>\n",
       "<table border=\"1\" class=\"dataframe\">\n",
       "  <thead>\n",
       "    <tr style=\"text-align: right;\">\n",
       "      <th></th>\n",
       "      <th>Project ID</th>\n",
       "      <th>Donation ID</th>\n",
       "      <th>Donor ID</th>\n",
       "      <th>Donation Included Optional Donation</th>\n",
       "      <th>Donation Amount</th>\n",
       "      <th>Donor Cart Sequence</th>\n",
       "      <th>Donation Received Date</th>\n",
       "      <th>School ID</th>\n",
       "      <th>Teacher ID</th>\n",
       "      <th>Teacher Project Posted Sequence</th>\n",
       "      <th>...</th>\n",
       "      <th>Project Need Statement</th>\n",
       "      <th>Project Subject Category Tree</th>\n",
       "      <th>Project Subject Subcategory Tree</th>\n",
       "      <th>Project Grade Level Category</th>\n",
       "      <th>Project Resource Category</th>\n",
       "      <th>Project Cost</th>\n",
       "      <th>Project Posted Date</th>\n",
       "      <th>Project Expiration Date</th>\n",
       "      <th>Project Current Status</th>\n",
       "      <th>Project Fully Funded Date</th>\n",
       "    </tr>\n",
       "  </thead>\n",
       "  <tbody>\n",
       "    <tr>\n",
       "      <th>0</th>\n",
       "      <td>000009891526c0ade7180f8423792063</td>\n",
       "      <td>688729120858666221208529ee3fc18e</td>\n",
       "      <td>1f4b5b6e68445c6c4a0509b3aca93f38</td>\n",
       "      <td>No</td>\n",
       "      <td>178.37</td>\n",
       "      <td>11</td>\n",
       "      <td>2016-08-23 13:15:57</td>\n",
       "      <td>5aa86a53f658c198fd4e42c541411c76</td>\n",
       "      <td>6d5b22d39e68c656071a842732c63a0c</td>\n",
       "      <td>6</td>\n",
       "      <td>...</td>\n",
       "      <td>My students need a cart to help us manage our ...</td>\n",
       "      <td>Music &amp; The Arts</td>\n",
       "      <td>Music</td>\n",
       "      <td>Grades 6-8</td>\n",
       "      <td>Other</td>\n",
       "      <td>529.68</td>\n",
       "      <td>2016-05-13</td>\n",
       "      <td>2016-09-12</td>\n",
       "      <td>Fully Funded</td>\n",
       "      <td>2016-08-23</td>\n",
       "    </tr>\n",
       "    <tr>\n",
       "      <th>1</th>\n",
       "      <td>000009891526c0ade7180f8423792063</td>\n",
       "      <td>dcf1071da3aa3561f91ac689d1f73dee</td>\n",
       "      <td>4aaab6d244bf3599682239ed5591af8a</td>\n",
       "      <td>Yes</td>\n",
       "      <td>25.00</td>\n",
       "      <td>2</td>\n",
       "      <td>2016-06-06 20:05:23</td>\n",
       "      <td>5aa86a53f658c198fd4e42c541411c76</td>\n",
       "      <td>6d5b22d39e68c656071a842732c63a0c</td>\n",
       "      <td>6</td>\n",
       "      <td>...</td>\n",
       "      <td>My students need a cart to help us manage our ...</td>\n",
       "      <td>Music &amp; The Arts</td>\n",
       "      <td>Music</td>\n",
       "      <td>Grades 6-8</td>\n",
       "      <td>Other</td>\n",
       "      <td>529.68</td>\n",
       "      <td>2016-05-13</td>\n",
       "      <td>2016-09-12</td>\n",
       "      <td>Fully Funded</td>\n",
       "      <td>2016-08-23</td>\n",
       "    </tr>\n",
       "    <tr>\n",
       "      <th>2</th>\n",
       "      <td>000009891526c0ade7180f8423792063</td>\n",
       "      <td>18a234b9d1e538c431761d521ea7799d</td>\n",
       "      <td>0b0765dc9c759adc48a07688ba25e94e</td>\n",
       "      <td>Yes</td>\n",
       "      <td>20.00</td>\n",
       "      <td>3</td>\n",
       "      <td>2016-06-06 14:08:46</td>\n",
       "      <td>5aa86a53f658c198fd4e42c541411c76</td>\n",
       "      <td>6d5b22d39e68c656071a842732c63a0c</td>\n",
       "      <td>6</td>\n",
       "      <td>...</td>\n",
       "      <td>My students need a cart to help us manage our ...</td>\n",
       "      <td>Music &amp; The Arts</td>\n",
       "      <td>Music</td>\n",
       "      <td>Grades 6-8</td>\n",
       "      <td>Other</td>\n",
       "      <td>529.68</td>\n",
       "      <td>2016-05-13</td>\n",
       "      <td>2016-09-12</td>\n",
       "      <td>Fully Funded</td>\n",
       "      <td>2016-08-23</td>\n",
       "    </tr>\n",
       "  </tbody>\n",
       "</table>\n",
       "<p>3 rows × 24 columns</p>\n",
       "</div>"
      ],
      "text/plain": [
       "                         Project ID                       Donation ID  \\\n",
       "0  000009891526c0ade7180f8423792063  688729120858666221208529ee3fc18e   \n",
       "1  000009891526c0ade7180f8423792063  dcf1071da3aa3561f91ac689d1f73dee   \n",
       "2  000009891526c0ade7180f8423792063  18a234b9d1e538c431761d521ea7799d   \n",
       "\n",
       "                           Donor ID Donation Included Optional Donation  \\\n",
       "0  1f4b5b6e68445c6c4a0509b3aca93f38                                  No   \n",
       "1  4aaab6d244bf3599682239ed5591af8a                                 Yes   \n",
       "2  0b0765dc9c759adc48a07688ba25e94e                                 Yes   \n",
       "\n",
       "   Donation Amount  Donor Cart Sequence Donation Received Date  \\\n",
       "0           178.37                   11    2016-08-23 13:15:57   \n",
       "1            25.00                    2    2016-06-06 20:05:23   \n",
       "2            20.00                    3    2016-06-06 14:08:46   \n",
       "\n",
       "                          School ID                        Teacher ID  \\\n",
       "0  5aa86a53f658c198fd4e42c541411c76  6d5b22d39e68c656071a842732c63a0c   \n",
       "1  5aa86a53f658c198fd4e42c541411c76  6d5b22d39e68c656071a842732c63a0c   \n",
       "2  5aa86a53f658c198fd4e42c541411c76  6d5b22d39e68c656071a842732c63a0c   \n",
       "\n",
       "   Teacher Project Posted Sequence  ...  \\\n",
       "0                                6  ...   \n",
       "1                                6  ...   \n",
       "2                                6  ...   \n",
       "\n",
       "                              Project Need Statement  \\\n",
       "0  My students need a cart to help us manage our ...   \n",
       "1  My students need a cart to help us manage our ...   \n",
       "2  My students need a cart to help us manage our ...   \n",
       "\n",
       "  Project Subject Category Tree Project Subject Subcategory Tree  \\\n",
       "0              Music & The Arts                            Music   \n",
       "1              Music & The Arts                            Music   \n",
       "2              Music & The Arts                            Music   \n",
       "\n",
       "  Project Grade Level Category Project Resource Category Project Cost  \\\n",
       "0                   Grades 6-8                     Other       529.68   \n",
       "1                   Grades 6-8                     Other       529.68   \n",
       "2                   Grades 6-8                     Other       529.68   \n",
       "\n",
       "  Project Posted Date Project Expiration Date Project Current Status  \\\n",
       "0          2016-05-13              2016-09-12           Fully Funded   \n",
       "1          2016-05-13              2016-09-12           Fully Funded   \n",
       "2          2016-05-13              2016-09-12           Fully Funded   \n",
       "\n",
       "   Project Fully Funded Date  \n",
       "0                 2016-08-23  \n",
       "1                 2016-08-23  \n",
       "2                 2016-08-23  \n",
       "\n",
       "[3 rows x 24 columns]"
      ]
     },
     "execution_count": 1,
     "metadata": {},
     "output_type": "execute_result"
    }
   ],
   "source": [
    "import matplotlib.pyplot as plt\n",
    "import numpy as np\n",
    "import pandas as pd\n",
    "import math as math\n",
    "\n",
    "# 1.1m rows\n",
    "projects_ff = pd.read_csv('Projects.csv')\n",
    "# 4.6m rows\n",
    "donations_ff = pd.read_csv('Donations.csv')\n",
    "# Some donations were missing valid project IDs...\n",
    "df = donations_ff.merge(projects_ff, on=\"Project ID\", how=\"inner\")\n",
    "df.head(3)"
   ]
  },
  {
   "cell_type": "markdown",
   "metadata": {},
   "source": [
    "In order to cut down on memory/time, we take a smaller random sample for testing and development."
   ]
  },
  {
   "cell_type": "code",
   "execution_count": 2,
   "metadata": {},
   "outputs": [
    {
     "name": "stdout",
     "output_type": "stream",
     "text": [
      " loaded 100000 donations and 88233 projects.\n"
     ]
    }
   ],
   "source": [
    "# REDUCED SIZE FOR TESTING/DEVELOPMENT\n",
    "donations = df.sample(n=100000)[['Project ID', 'Donation ID', 'Donor ID', 'Donation Amount', 'Donation Received Date']]\n",
    "\n",
    "projects = projects_ff.loc[ projects_ff[\"Project ID\"].isin(donations[\"Project ID\"]) ].copy()\n",
    "projects = projects.reset_index(drop = True)\n",
    "\n",
    "print(\" loaded\", len(donations), \"donations and\", len(projects), \"projects.\")"
   ]
  },
  {
   "cell_type": "markdown",
   "metadata": {},
   "source": [
    "The donation amounts vary widely and are dominated by small-dollar donations, so we use a log transform to smooth them out."
   ]
  },
  {
   "cell_type": "code",
   "execution_count": 3,
   "metadata": {},
   "outputs": [
    {
     "name": "stdout",
     "output_type": "stream",
     "text": [
      "Before smoothing:\n"
     ]
    },
    {
     "data": {
      "image/png": "[encoded data removed]",
      "text/plain": [
       "<Figure size 432x288 with 1 Axes>"
      ]
     },
     "metadata": {
      "needs_background": "light"
     },
     "output_type": "display_data"
    },
    {
     "name": "stdout",
     "output_type": "stream",
     "text": [
      "After smoothing:\n"
     ]
    },
    {
     "data": {
      "image/png": "[encoded data removed]",
      "text/plain": [
       "<Figure size 432x288 with 1 Axes>"
      ]
     },
     "metadata": {
      "needs_background": "light"
     },
     "output_type": "display_data"
    }
   ],
   "source": [
    "print(\"Before smoothing:\")\n",
    "donations[\"Donation Amount\"].hist(bins=150)\n",
    "plt.show()\n",
    "\n",
    "# smooth out the donation amounts...\n",
    "donations[\"Donation Amount\"] = donations[\"Donation Amount\"].apply(lambda x : math.log(1+x))\n",
    "\n",
    "print(\"After smoothing:\")\n",
    "donations[\"Donation Amount\"].hist(bins=15)\n",
    "plt.show()\n"
   ]
  },
  {
   "cell_type": "markdown",
   "metadata": {},
   "source": [
    "The basic structure of the data is that each **donor** typically interacts with several **projects**.  Each interaction is a **donation**.  We split the set of donations into training and test sets.  Our hope is to build a model using the **training set** that can accurately predict donations (for a particular donor) from the **test set**."
   ]
  },
  {
   "cell_type": "code",
   "execution_count": 44,
   "metadata": {},
   "outputs": [
    {
     "name": "stdout",
     "output_type": "stream",
     "text": [
      "50000 50000\n"
     ]
    }
   ],
   "source": [
    "##\n",
    "## Split the donations\n",
    "##\n",
    "from sklearn.model_selection import train_test_split \n",
    "\n",
    "donations_train, donations_test = train_test_split(donations, test_size=0.5)\n",
    "print(len(donations_train), len(donations_test))"
   ]
  },
  {
   "cell_type": "markdown",
   "metadata": {},
   "source": [
    "Next we build a list of donors ranked by the number of projects to which they have each contributed.  We broke down the number of projects they contributed to in terms of training (which we view as past projects) and test (which we view as future projects that we would like to predict)."
   ]
  },
  {
   "cell_type": "code",
   "execution_count": 45,
   "metadata": {},
   "outputs": [
    {
     "data": {
      "text/html": [
       "<div>\n",
       "<style scoped>\n",
       "    .dataframe tbody tr th:only-of-type {\n",
       "        vertical-align: middle;\n",
       "    }\n",
       "\n",
       "    .dataframe tbody tr th {\n",
       "        vertical-align: top;\n",
       "    }\n",
       "\n",
       "    .dataframe thead th {\n",
       "        text-align: right;\n",
       "    }\n",
       "</style>\n",
       "<table border=\"1\" class=\"dataframe\">\n",
       "  <thead>\n",
       "    <tr style=\"text-align: right;\">\n",
       "      <th></th>\n",
       "      <th>freq</th>\n",
       "      <th>Donor ID</th>\n",
       "      <th>test_freq</th>\n",
       "    </tr>\n",
       "  </thead>\n",
       "  <tbody>\n",
       "    <tr>\n",
       "      <th>0</th>\n",
       "      <td>198</td>\n",
       "      <td>39df9399f5384334a42905bcf0acdcbf</td>\n",
       "      <td>202</td>\n",
       "    </tr>\n",
       "    <tr>\n",
       "      <th>1</th>\n",
       "      <td>148</td>\n",
       "      <td>237db43817f34988f9d543ca518be4ee</td>\n",
       "      <td>161</td>\n",
       "    </tr>\n",
       "    <tr>\n",
       "      <th>2</th>\n",
       "      <td>112</td>\n",
       "      <td>a0e1d358aa17745ff3d3f4e4909356f3</td>\n",
       "      <td>115</td>\n",
       "    </tr>\n",
       "    <tr>\n",
       "      <th>3</th>\n",
       "      <td>88</td>\n",
       "      <td>6f74ffb17cbb2b616b1eef06bd4acd0c</td>\n",
       "      <td>120</td>\n",
       "    </tr>\n",
       "    <tr>\n",
       "      <th>4</th>\n",
       "      <td>77</td>\n",
       "      <td>19f24640d9da49f6f8b4c9938c049591</td>\n",
       "      <td>62</td>\n",
       "    </tr>\n",
       "    <tr>\n",
       "      <th>5</th>\n",
       "      <td>70</td>\n",
       "      <td>6a35a7514005c04f8520e5d8f7657d91</td>\n",
       "      <td>46</td>\n",
       "    </tr>\n",
       "    <tr>\n",
       "      <th>6</th>\n",
       "      <td>63</td>\n",
       "      <td>0e345dcdef0d2a36c9bd17bf1ac3e10a</td>\n",
       "      <td>46</td>\n",
       "    </tr>\n",
       "    <tr>\n",
       "      <th>7</th>\n",
       "      <td>62</td>\n",
       "      <td>a1929a1172ad0b3d14bc84f54018c563</td>\n",
       "      <td>80</td>\n",
       "    </tr>\n",
       "    <tr>\n",
       "      <th>8</th>\n",
       "      <td>60</td>\n",
       "      <td>74f7db06bcd9557d1e992dc029db69cc</td>\n",
       "      <td>67</td>\n",
       "    </tr>\n",
       "    <tr>\n",
       "      <th>9</th>\n",
       "      <td>55</td>\n",
       "      <td>b51c76411b51751f45527c63c69ead9e</td>\n",
       "      <td>64</td>\n",
       "    </tr>\n",
       "    <tr>\n",
       "      <th>10</th>\n",
       "      <td>52</td>\n",
       "      <td>a299db9679f7746a805fbc300362191d</td>\n",
       "      <td>45</td>\n",
       "    </tr>\n",
       "    <tr>\n",
       "      <th>11</th>\n",
       "      <td>51</td>\n",
       "      <td>86d57a6264726b2a94c5b9663f46330c</td>\n",
       "      <td>49</td>\n",
       "    </tr>\n",
       "    <tr>\n",
       "      <th>12</th>\n",
       "      <td>50</td>\n",
       "      <td>f37b9ff133242d08658ca2b17b3ab84c</td>\n",
       "      <td>56</td>\n",
       "    </tr>\n",
       "    <tr>\n",
       "      <th>13</th>\n",
       "      <td>47</td>\n",
       "      <td>24ecca49933c30a0beb83090591720c0</td>\n",
       "      <td>65</td>\n",
       "    </tr>\n",
       "    <tr>\n",
       "      <th>14</th>\n",
       "      <td>46</td>\n",
       "      <td>0cd96e83a645971f6deb4559262b7688</td>\n",
       "      <td>43</td>\n",
       "    </tr>\n",
       "    <tr>\n",
       "      <th>15</th>\n",
       "      <td>45</td>\n",
       "      <td>4416745560343f14a74dedcda4ec03b0</td>\n",
       "      <td>36</td>\n",
       "    </tr>\n",
       "    <tr>\n",
       "      <th>16</th>\n",
       "      <td>45</td>\n",
       "      <td>406518edf1c30d599de90e2055a697fc</td>\n",
       "      <td>38</td>\n",
       "    </tr>\n",
       "    <tr>\n",
       "      <th>17</th>\n",
       "      <td>45</td>\n",
       "      <td>6dd7995a998f79a8c65a0d400c9a5350</td>\n",
       "      <td>44</td>\n",
       "    </tr>\n",
       "    <tr>\n",
       "      <th>18</th>\n",
       "      <td>44</td>\n",
       "      <td>a7fa881a86cb4c7e70815b38168d1702</td>\n",
       "      <td>46</td>\n",
       "    </tr>\n",
       "    <tr>\n",
       "      <th>19</th>\n",
       "      <td>44</td>\n",
       "      <td>75e09805b663bbe4b80b40034c192b4a</td>\n",
       "      <td>40</td>\n",
       "    </tr>\n",
       "    <tr>\n",
       "      <th>20</th>\n",
       "      <td>38</td>\n",
       "      <td>d24347fdee199ae9395ad44484e1caf7</td>\n",
       "      <td>27</td>\n",
       "    </tr>\n",
       "    <tr>\n",
       "      <th>21</th>\n",
       "      <td>36</td>\n",
       "      <td>d006be7223c048ae8b2bdedd7dd2b4db</td>\n",
       "      <td>40</td>\n",
       "    </tr>\n",
       "    <tr>\n",
       "      <th>22</th>\n",
       "      <td>36</td>\n",
       "      <td>e7692ca3a0fe35653c173de80adfc880</td>\n",
       "      <td>42</td>\n",
       "    </tr>\n",
       "    <tr>\n",
       "      <th>23</th>\n",
       "      <td>34</td>\n",
       "      <td>21b1f0d20fe90350172022563503364c</td>\n",
       "      <td>24</td>\n",
       "    </tr>\n",
       "    <tr>\n",
       "      <th>24</th>\n",
       "      <td>34</td>\n",
       "      <td>a7dbf5caa4e885e277e7fb46fc3b795e</td>\n",
       "      <td>29</td>\n",
       "    </tr>\n",
       "    <tr>\n",
       "      <th>25</th>\n",
       "      <td>34</td>\n",
       "      <td>28601b5d4270c7f42a43bb5a44753d8e</td>\n",
       "      <td>28</td>\n",
       "    </tr>\n",
       "    <tr>\n",
       "      <th>26</th>\n",
       "      <td>33</td>\n",
       "      <td>be833db4f16df25696356b1194a14308</td>\n",
       "      <td>41</td>\n",
       "    </tr>\n",
       "    <tr>\n",
       "      <th>27</th>\n",
       "      <td>31</td>\n",
       "      <td>4a66bd08b25a2ec7e827db68f766a136</td>\n",
       "      <td>25</td>\n",
       "    </tr>\n",
       "    <tr>\n",
       "      <th>28</th>\n",
       "      <td>31</td>\n",
       "      <td>009d5fc7b87883ffad248db5150bf1fc</td>\n",
       "      <td>34</td>\n",
       "    </tr>\n",
       "    <tr>\n",
       "      <th>29</th>\n",
       "      <td>31</td>\n",
       "      <td>1be8ff2501f21dbe85a2fc87afb641e8</td>\n",
       "      <td>22</td>\n",
       "    </tr>\n",
       "  </tbody>\n",
       "</table>\n",
       "</div>"
      ],
      "text/plain": [
       "    freq                          Donor ID  test_freq\n",
       "0    198  39df9399f5384334a42905bcf0acdcbf        202\n",
       "1    148  237db43817f34988f9d543ca518be4ee        161\n",
       "2    112  a0e1d358aa17745ff3d3f4e4909356f3        115\n",
       "3     88  6f74ffb17cbb2b616b1eef06bd4acd0c        120\n",
       "4     77  19f24640d9da49f6f8b4c9938c049591         62\n",
       "5     70  6a35a7514005c04f8520e5d8f7657d91         46\n",
       "6     63  0e345dcdef0d2a36c9bd17bf1ac3e10a         46\n",
       "7     62  a1929a1172ad0b3d14bc84f54018c563         80\n",
       "8     60  74f7db06bcd9557d1e992dc029db69cc         67\n",
       "9     55  b51c76411b51751f45527c63c69ead9e         64\n",
       "10    52  a299db9679f7746a805fbc300362191d         45\n",
       "11    51  86d57a6264726b2a94c5b9663f46330c         49\n",
       "12    50  f37b9ff133242d08658ca2b17b3ab84c         56\n",
       "13    47  24ecca49933c30a0beb83090591720c0         65\n",
       "14    46  0cd96e83a645971f6deb4559262b7688         43\n",
       "15    45  4416745560343f14a74dedcda4ec03b0         36\n",
       "16    45  406518edf1c30d599de90e2055a697fc         38\n",
       "17    45  6dd7995a998f79a8c65a0d400c9a5350         44\n",
       "18    44  a7fa881a86cb4c7e70815b38168d1702         46\n",
       "19    44  75e09805b663bbe4b80b40034c192b4a         40\n",
       "20    38  d24347fdee199ae9395ad44484e1caf7         27\n",
       "21    36  d006be7223c048ae8b2bdedd7dd2b4db         40\n",
       "22    36  e7692ca3a0fe35653c173de80adfc880         42\n",
       "23    34  21b1f0d20fe90350172022563503364c         24\n",
       "24    34  a7dbf5caa4e885e277e7fb46fc3b795e         29\n",
       "25    34  28601b5d4270c7f42a43bb5a44753d8e         28\n",
       "26    33  be833db4f16df25696356b1194a14308         41\n",
       "27    31  4a66bd08b25a2ec7e827db68f766a136         25\n",
       "28    31  009d5fc7b87883ffad248db5150bf1fc         34\n",
       "29    31  1be8ff2501f21dbe85a2fc87afb641e8         22"
      ]
     },
     "execution_count": 45,
     "metadata": {},
     "output_type": "execute_result"
    }
   ],
   "source": [
    "##\n",
    "## Find the top donors (by number of projects)\n",
    "##\n",
    "\n",
    "MIN_FREQ = 3\n",
    "\n",
    "top_donors = pd.DataFrame(donations_train['Donor ID'].value_counts())\n",
    "top_donors.columns = ['freq']\n",
    "top_donors['Donor ID'] = top_donors.index\n",
    "top_donors = top_donors.loc[top_donors.freq >= MIN_FREQ]\n",
    "\n",
    "td_test = pd.DataFrame(donations_test.merge( top_donors, on=\"Donor ID\", how=\"inner\" ).groupby(\"Donor ID\")[\"Project ID\"].count())\n",
    "td_test.columns = ['test_freq']\n",
    "td_test = td_test.loc[td_test.test_freq >= MIN_FREQ]\n",
    "\n",
    "top_donors = top_donors.merge(td_test, on=\"Donor ID\", how=\"inner\")\n",
    "top_donors[:30]"
   ]
  },
  {
   "cell_type": "markdown",
   "metadata": {},
   "source": [
    "We use the training data to create a **Project x Feature matrix** that is inferred (using the TF-IDF model) from the text of the Project Essay associated to each project."
   ]
  },
  {
   "cell_type": "code",
   "execution_count": 33,
   "metadata": {},
   "outputs": [
    {
     "data": {
      "text/plain": [
       "<88233x2500 sparse matrix of type '<class 'numpy.float64'>'\n",
       "\twith 8947410 stored elements in Compressed Sparse Row format>"
      ]
     },
     "execution_count": 33,
     "metadata": {},
     "output_type": "execute_result"
    }
   ],
   "source": [
    "#\n",
    "# Model training\n",
    "#\n",
    "\n",
    "from sklearn.feature_extraction.text import TfidfVectorizer\n",
    "from sklearn.metrics.pairwise import cosine_similarity\n",
    "from sklearn.preprocessing import normalize\n",
    "\n",
    "# Preprocessing of text data\n",
    "textfeats = [\"Project Essay\"]\n",
    "for cols in textfeats:\n",
    "    projects[cols] = projects[cols].astype(str) \n",
    "    projects[cols] = projects[cols].astype(str).fillna('') # FILL NA\n",
    "    projects[cols] = projects[cols].str.lower() # Lowercase all text, so that capitalized words dont get treated differently \n",
    "text = pd.Series(projects[\"Project Essay\"])\n",
    "\n",
    "basic_vectorizer = TfidfVectorizer(strip_accents='unicode', analyzer='word', stop_words='english')\n",
    "tuned_vectorizer = TfidfVectorizer(strip_accents='unicode', analyzer='word', stop_words='english', \n",
    "                                   ngram_range = (1,3), max_features=2500 )\n",
    "vectorizer = tuned_vectorizer\n",
    "\n",
    "PF_MATRIX = vectorizer.fit_transform(text)\n",
    "tfidf_feature_names = vectorizer.get_feature_names()\n",
    "\n",
    "project_row_to_id = dict(projects['Project ID'])\n",
    "project_id_to_row = {value: key for key, value in project_row_to_id.items()}\n",
    "\n",
    "PF_MATRIX\n"
   ]
  },
  {
   "cell_type": "markdown",
   "metadata": {},
   "source": [
    "Next we build the methods for recommendation.\n",
    "\n",
    "For each donor, we look up the projects they have contributed to in the past, and create a weighted average (using the smoothed donation amount as the weight) of the feature vectors for those projects.\n",
    "\n",
    "To make recommendations, we then rank the projects in the **Project x Feature matrix** using cosine similarity with the donor vector we created.\n"
   ]
  },
  {
   "cell_type": "code",
   "execution_count": 46,
   "metadata": {},
   "outputs": [],
   "source": [
    "#\n",
    "# Model definition\n",
    "#\n",
    "\n",
    "from sklearn.metrics.pairwise import cosine_similarity\n",
    "from sklearn.preprocessing import normalize\n",
    "\n",
    "def get_project_profile_vector(proj_id):\n",
    "    return PF_MATRIX[project_id_to_row[proj_id]]\n",
    "\n",
    "def get_donor_profile_vector(donor_id):\n",
    "    donor_projects = donations_train.loc[donations[\"Donor ID\"]==donor_id][['Project ID', 'Donation Amount']]\n",
    "    weighted_average = 0\n",
    "    total_weight = donor_projects[\"Donation Amount\"].sum()\n",
    "    for i in range(len(donor_projects)):\n",
    "        projid, projam = donor_projects.iloc[i][[\"Project ID\", \"Donation Amount\"]]\n",
    "        pf_vector = PF_MATRIX[project_id_to_row[projid]]\n",
    "        rel_weight = projam / total_weight\n",
    "        weighted_average = weighted_average + pf_vector*rel_weight\n",
    "    weighted_average = normalize(weighted_average.reshape(1, -1))  ## N.B. new\n",
    "    return weighted_average\n",
    "\n",
    "def get_future_donation_rows(donor_id):\n",
    "    donor_projects_test = donations_test.loc[donations[\"Donor ID\"]==donor_id][['Project ID', 'Donation Amount']]\n",
    "    return list(donor_projects_test[\"Project ID\"].map(project_id_to_row))\n",
    "\n",
    "def get_past_donation_rows(donor_id):\n",
    "    donor_projects_train = donations_train.loc[donations[\"Donor ID\"]==donor_id][['Project ID', 'Donation Amount']]\n",
    "    return list(donor_projects_train[\"Project ID\"].map(project_id_to_row))\n",
    "\n",
    "def get_random_donation_rows(n):\n",
    "    return list(projects.sample(n).index)\n",
    "\n",
    "def recommend_for( donor_id ):\n",
    "    weighted_average = get_donor_profile_vector(donor_id)\n",
    "    scores = pd.DataFrame(cosine_similarity(PF_MATRIX, weighted_average.reshape(1, -1), dense_output = True))\n",
    "    scores.columns = ['score']\n",
    "    scores.sort_values(by='score', ascending=False, inplace=True)\n",
    "    scores['Project ID'] = scores.index.map(project_row_to_id)\n",
    "\n",
    "    donor_projects = donations_train.loc[donations[\"Donor ID\"]==donor_id][['Project ID', 'Donation Amount']]\n",
    "    scores['has donated'] = scores['Project ID'].isin(donor_projects['Project ID'])\n",
    "    \n",
    "    donor_projects_test = donations_test.loc[donations[\"Donor ID\"]==donor_id][['Project ID', 'Donation Amount']]\n",
    "    scores['will donate'] = scores['Project ID'].isin(donor_projects_test['Project ID'])\n",
    "\n",
    "    return scores\n",
    "\n",
    "def recommend_filtered( scores, top_n = 50, filter_projects = None ):\n",
    "    if filter_projects != None:\n",
    "        scores = scores.loc[scores.index.isin(filter_projects)] \n",
    "\n",
    "    return scores.head(top_n)\n",
    "\n",
    "#recommend_for(test_donor_id, 20)"
   ]
  },
  {
   "cell_type": "markdown",
   "metadata": {},
   "source": [
    "In order to evaluate the model, we create an experiment for each donor and project from the test set (for that donor).  The experiment places the project that the donor actually contributed to among 99 other randomly selected projects and asks the recommendation system to rank the 100 projects.  We deem the experiment successful if the relevant project appears in the top 10 recommendations.  This is a measure of **recall** for our recommendation system."
   ]
  },
  {
   "cell_type": "code",
   "execution_count": 14,
   "metadata": {},
   "outputs": [],
   "source": [
    "# We ran two sets of tests, one used basic_vectorizer to create PF_MATRIX while the other used tuned_vectorizer...\n",
    "TESTS_BASIC = []\n",
    "TESTS_TUNED = []"
   ]
  },
  {
   "cell_type": "code",
   "execution_count": 47,
   "metadata": {},
   "outputs": [
    {
     "name": "stdout",
     "output_type": "stream",
     "text": [
      "0.8267326732673267 = recall@10 for top donor 39df9399f5384334a42905bcf0acdcbf\n",
      "0.4782608695652174 = recall@10 for top donor 237db43817f34988f9d543ca518be4ee\n",
      "0.1826086956521739 = recall@10 for top donor a0e1d358aa17745ff3d3f4e4909356f3\n",
      "0.10833333333333334 = recall@10 for top donor 6f74ffb17cbb2b616b1eef06bd4acd0c\n",
      "0.3870967741935484 = recall@10 for top donor 19f24640d9da49f6f8b4c9938c049591\n",
      "0.21739130434782608 = recall@10 for top donor 6a35a7514005c04f8520e5d8f7657d91\n",
      "0.34782608695652173 = recall@10 for top donor 0e345dcdef0d2a36c9bd17bf1ac3e10a\n",
      "0.1125 = recall@10 for top donor a1929a1172ad0b3d14bc84f54018c563\n",
      "0.19402985074626866 = recall@10 for top donor 74f7db06bcd9557d1e992dc029db69cc\n",
      "0.078125 = recall@10 for top donor b51c76411b51751f45527c63c69ead9e\n",
      "0.15555555555555556 = recall@10 for top donor a299db9679f7746a805fbc300362191d\n",
      "0.12244897959183673 = recall@10 for top donor 86d57a6264726b2a94c5b9663f46330c\n",
      "0.23214285714285715 = recall@10 for top donor f37b9ff133242d08658ca2b17b3ab84c\n",
      "0.2 = recall@10 for top donor 24ecca49933c30a0beb83090591720c0\n",
      "0.46511627906976744 = recall@10 for top donor 0cd96e83a645971f6deb4559262b7688\n",
      "0.1388888888888889 = recall@10 for top donor 4416745560343f14a74dedcda4ec03b0\n",
      "0.10526315789473684 = recall@10 for top donor 406518edf1c30d599de90e2055a697fc\n",
      "0.0 = recall@10 for top donor 6dd7995a998f79a8c65a0d400c9a5350\n",
      "0.06521739130434782 = recall@10 for top donor a7fa881a86cb4c7e70815b38168d1702\n",
      "0.05 = recall@10 for top donor 75e09805b663bbe4b80b40034c192b4a\n",
      "Average recall@10 for top donors:  0.22337688487551038\n"
     ]
    }
   ],
   "source": [
    "#\n",
    "# Model testing\n",
    "#\n",
    "\n",
    "def recall_at(donor_id, N = 10):\n",
    "    ranks = []\n",
    "    the_recs = recommend_for( donor_id )\n",
    "    for proj in get_future_donation_rows(donor_id):\n",
    "        one_out_of_99_exp = [ proj ]\n",
    "        one_out_of_99_exp.extend( get_random_donation_rows(99) )\n",
    "        recs = recommend_filtered(the_recs, N, one_out_of_99_exp)\n",
    "        recs = recs.reset_index()\n",
    "        try:\n",
    "            rank = recs.loc[recs['index'] == proj].index[0]+1\n",
    "            ranks.append(rank)\n",
    "        except:\n",
    "            ranks.append(-1)\n",
    "    return len([ r for r in ranks if r > 0 and r <= 10 ]) / len(ranks)\n",
    "\n",
    "recalls = []\n",
    "#for row in top_donors[\"Donor ID\"]:\n",
    "for row in top_donors[:20][\"Donor ID\"]:\n",
    "    rar = recall_at(row)\n",
    "    print( rar, \"= recall@10 for top donor\", row )\n",
    "    recalls.append( rar )\n",
    "print(\"Average recall@10 for top donors: \", sum(recalls)/len(recalls) )\n"
   ]
  },
  {
   "cell_type": "code",
   "execution_count": 48,
   "metadata": {},
   "outputs": [],
   "source": [
    "TESTS_TUNED.append( recalls.copy() )\n",
    "#TESTS_BASIC.append( recalls.copy() )\n"
   ]
  },
  {
   "cell_type": "markdown",
   "metadata": {},
   "source": [
    "We ran three trials (not shown) using each of the basic_vectorizer and tuned_vectorizer models to create PF_MATRIX.  The tuned_vectorizer adds bi- and tri- grams to its vocabulary but also limits the size of the vocabulary to record the most significant features.\n",
    "\n",
    "Comparing these, we see that the tuned model outperformed the basic model by several percentage points."
   ]
  },
  {
   "cell_type": "code",
   "execution_count": 59,
   "metadata": {},
   "outputs": [
    {
     "name": "stdout",
     "output_type": "stream",
     "text": [
      "tuned mean 0.22953121521812142  >= basic mean 0.189697024485991\n"
     ]
    },
    {
     "data": {
      "image/png": "[encoded data removed]",
      "text/plain": [
       "<Figure size 432x288 with 1 Axes>"
      ]
     },
     "metadata": {
      "needs_background": "light"
     },
     "output_type": "display_data"
    }
   ],
   "source": [
    "flatten = lambda l: [item for sublist in l for item in sublist]\n",
    "tb = pd.Series(flatten(TESTS_BASIC)) # This series was created using the basic_vectorizer to create PF_MATRIX\n",
    "tt = pd.Series(flatten(TESTS_TUNED)) # This series was created using the tuned_vectorizer to create PF_MATRIX\n",
    "tb.hist(alpha = 0.5, bins=16)\n",
    "tt.hist(alpha = 0.5, bins=16)\n",
    "\n",
    "print( \"tuned mean\", tt.mean(), \" >= basic mean\", tb.mean() )"
   ]
  },
  {
   "cell_type": "markdown",
   "metadata": {},
   "source": [
    "# Future work\n",
    "\n",
    "These results should be viewed as a baseline for improvement.  There are several other features beyond the \"Project Essay\" text that we could use to build a hybrid model.  For example, we could consider the state where the school is located or the grade level of the classroom.  There are also other hyper-parameters to tune for the TF-IDF model.\n",
    "\n",
    "It would also be interesting to replace the TF-IDF model with Word2Vec or Doc2Vec.\n"
   ]
  }
 ],
 "metadata": {
  "kernelspec": {
   "display_name": "Python 3",
   "language": "python",
   "name": "python3"
  },
  "language_info": {
   "codemirror_mode": {
    "name": "ipython",
    "version": 3
   },
   "file_extension": ".py",
   "mimetype": "text/x-python",
   "name": "python",
   "nbconvert_exporter": "python",
   "pygments_lexer": "ipython3",
   "version": "3.7.6"
  }
 },
 "nbformat": 4,
 "nbformat_minor": 4
}
