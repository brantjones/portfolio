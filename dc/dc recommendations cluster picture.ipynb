{
 "cells": [
  {
   "cell_type": "markdown",
   "metadata": {},
   "source": [
    "# Cluster visualization\n",
    "\n",
    "This is a continuation of [dc recommendations.ipynb](dc%20recommendations.ipynb)...\n",
    "\n",
    "In this worksheet, we present a visualization of the 2500-dimensional vectors representing projects that are related via donations from particular donors.\n"
   ]
  },
  {
   "cell_type": "code",
   "execution_count": 26,
   "metadata": {},
   "outputs": [
    {
     "name": "stdout",
     "output_type": "stream",
     "text": [
      " loaded 50000 donations and 46575 projects.\n"
     ]
    }
   ],
   "source": [
    "import matplotlib.pyplot as plt\n",
    "import numpy as np\n",
    "import pandas as pd\n",
    "import math as math\n",
    "\n",
    "# 1.1m rows\n",
    "projects_ff = pd.read_csv('Projects.csv')\n",
    "# 4.6m rows\n",
    "donations_ff = pd.read_csv('Donations.csv')\n",
    "# Some donations were missing valid project IDs...\n",
    "df = donations_ff.merge(projects_ff, on=\"Project ID\", how=\"inner\")\n",
    "df.head(3)\n",
    "\n",
    "# REDUCED SIZE FOR TESTING/DEVELOPMENT\n",
    "donations = df.sample(n=50000)[['Project ID', 'Donation ID', 'Donor ID', 'Donation Amount', 'Donation Received Date']]\n",
    "\n",
    "projects = projects_ff.loc[ projects_ff[\"Project ID\"].isin(donations[\"Project ID\"]) ].copy()\n",
    "projects = projects.reset_index(drop = True)\n",
    "\n",
    "print(\" loaded\", len(donations), \"donations and\", len(projects), \"projects.\")"
   ]
  },
  {
   "cell_type": "code",
   "execution_count": 27,
   "metadata": {},
   "outputs": [
    {
     "data": {
      "text/plain": [
       "<46575x2500 sparse matrix of type '<class 'numpy.float64'>'\n",
       "\twith 4712748 stored elements in Compressed Sparse Row format>"
      ]
     },
     "execution_count": 27,
     "metadata": {},
     "output_type": "execute_result"
    }
   ],
   "source": [
    "#\n",
    "# Model training\n",
    "#\n",
    "\n",
    "from sklearn.feature_extraction.text import TfidfVectorizer\n",
    "from sklearn.metrics.pairwise import cosine_similarity\n",
    "from sklearn.preprocessing import normalize\n",
    "\n",
    "# Preprocessing of text data\n",
    "textfeats = [\"Project Essay\"]\n",
    "for cols in textfeats:\n",
    "    projects[cols] = projects[cols].astype(str) \n",
    "    projects[cols] = projects[cols].astype(str).fillna('') # FILL NA\n",
    "    projects[cols] = projects[cols].str.lower() # Lowercase all text, so that capitalized words dont get treated differently \n",
    "text = pd.Series(projects[\"Project Essay\"])\n",
    "\n",
    "basic_vectorizer = TfidfVectorizer(strip_accents='unicode', analyzer='word', stop_words='english')\n",
    "tuned_vectorizer = TfidfVectorizer(strip_accents='unicode', analyzer='word', stop_words='english', \n",
    "                                   ngram_range = (1,3), max_features=2500 )\n",
    "vectorizer = tuned_vectorizer\n",
    "\n",
    "PF_MATRIX = vectorizer.fit_transform(text)\n",
    "tfidf_feature_names = vectorizer.get_feature_names()\n",
    "\n",
    "project_row_to_id = dict(projects['Project ID'])\n",
    "project_id_to_row = {value: key for key, value in project_row_to_id.items()}\n",
    "\n",
    "PF_MATRIX\n"
   ]
  },
  {
   "cell_type": "code",
   "execution_count": 28,
   "metadata": {},
   "outputs": [
    {
     "name": "stdout",
     "output_type": "stream",
     "text": [
      "25000 25000\n"
     ]
    }
   ],
   "source": [
    "##\n",
    "## Split the donations\n",
    "##\n",
    "from sklearn.model_selection import train_test_split \n",
    "\n",
    "donations_train, donations_test = train_test_split(donations, test_size=0.5)\n",
    "print(len(donations_train), len(donations_test))\n",
    "\n",
    "def get_future_donation_rows(donor_id):\n",
    "    donor_projects_test = donations_test.loc[donations[\"Donor ID\"]==donor_id][['Project ID', 'Donation Amount']]\n",
    "    return list(donor_projects_test[\"Project ID\"].map(project_id_to_row))\n",
    "\n",
    "def get_past_donation_rows(donor_id):\n",
    "    donor_projects_train = donations_train.loc[donations[\"Donor ID\"]==donor_id][['Project ID', 'Donation Amount']]\n",
    "    return list(donor_projects_train[\"Project ID\"].map(project_id_to_row))\n"
   ]
  },
  {
   "cell_type": "markdown",
   "metadata": {},
   "source": [
    "This is the list of top donors as ranked by the number of projects to which they have each contributed."
   ]
  },
  {
   "cell_type": "code",
   "execution_count": 29,
   "metadata": {},
   "outputs": [
    {
     "data": {
      "text/html": [
       "<div>\n",
       "<style scoped>\n",
       "    .dataframe tbody tr th:only-of-type {\n",
       "        vertical-align: middle;\n",
       "    }\n",
       "\n",
       "    .dataframe tbody tr th {\n",
       "        vertical-align: top;\n",
       "    }\n",
       "\n",
       "    .dataframe thead th {\n",
       "        text-align: right;\n",
       "    }\n",
       "</style>\n",
       "<table border=\"1\" class=\"dataframe\">\n",
       "  <thead>\n",
       "    <tr style=\"text-align: right;\">\n",
       "      <th></th>\n",
       "      <th>freq</th>\n",
       "      <th>Donor ID</th>\n",
       "      <th>test_freq</th>\n",
       "    </tr>\n",
       "  </thead>\n",
       "  <tbody>\n",
       "    <tr>\n",
       "      <th>0</th>\n",
       "      <td>104</td>\n",
       "      <td>39df9399f5384334a42905bcf0acdcbf</td>\n",
       "      <td>96</td>\n",
       "    </tr>\n",
       "    <tr>\n",
       "      <th>1</th>\n",
       "      <td>79</td>\n",
       "      <td>237db43817f34988f9d543ca518be4ee</td>\n",
       "      <td>87</td>\n",
       "    </tr>\n",
       "    <tr>\n",
       "      <th>2</th>\n",
       "      <td>51</td>\n",
       "      <td>6f74ffb17cbb2b616b1eef06bd4acd0c</td>\n",
       "      <td>45</td>\n",
       "    </tr>\n",
       "    <tr>\n",
       "      <th>3</th>\n",
       "      <td>51</td>\n",
       "      <td>a0e1d358aa17745ff3d3f4e4909356f3</td>\n",
       "      <td>60</td>\n",
       "    </tr>\n",
       "    <tr>\n",
       "      <th>4</th>\n",
       "      <td>42</td>\n",
       "      <td>24ecca49933c30a0beb83090591720c0</td>\n",
       "      <td>40</td>\n",
       "    </tr>\n",
       "    <tr>\n",
       "      <th>5</th>\n",
       "      <td>40</td>\n",
       "      <td>a1929a1172ad0b3d14bc84f54018c563</td>\n",
       "      <td>31</td>\n",
       "    </tr>\n",
       "    <tr>\n",
       "      <th>6</th>\n",
       "      <td>37</td>\n",
       "      <td>19f24640d9da49f6f8b4c9938c049591</td>\n",
       "      <td>29</td>\n",
       "    </tr>\n",
       "    <tr>\n",
       "      <th>7</th>\n",
       "      <td>32</td>\n",
       "      <td>6a35a7514005c04f8520e5d8f7657d91</td>\n",
       "      <td>26</td>\n",
       "    </tr>\n",
       "    <tr>\n",
       "      <th>8</th>\n",
       "      <td>31</td>\n",
       "      <td>6dd7995a998f79a8c65a0d400c9a5350</td>\n",
       "      <td>12</td>\n",
       "    </tr>\n",
       "    <tr>\n",
       "      <th>9</th>\n",
       "      <td>29</td>\n",
       "      <td>eecc14ded80a38f692a590fe80c7b08f</td>\n",
       "      <td>22</td>\n",
       "    </tr>\n",
       "    <tr>\n",
       "      <th>10</th>\n",
       "      <td>27</td>\n",
       "      <td>4416745560343f14a74dedcda4ec03b0</td>\n",
       "      <td>20</td>\n",
       "    </tr>\n",
       "    <tr>\n",
       "      <th>11</th>\n",
       "      <td>27</td>\n",
       "      <td>74f7db06bcd9557d1e992dc029db69cc</td>\n",
       "      <td>27</td>\n",
       "    </tr>\n",
       "    <tr>\n",
       "      <th>12</th>\n",
       "      <td>25</td>\n",
       "      <td>b51c76411b51751f45527c63c69ead9e</td>\n",
       "      <td>41</td>\n",
       "    </tr>\n",
       "    <tr>\n",
       "      <th>13</th>\n",
       "      <td>22</td>\n",
       "      <td>0cd96e83a645971f6deb4559262b7688</td>\n",
       "      <td>20</td>\n",
       "    </tr>\n",
       "    <tr>\n",
       "      <th>14</th>\n",
       "      <td>22</td>\n",
       "      <td>0e345dcdef0d2a36c9bd17bf1ac3e10a</td>\n",
       "      <td>30</td>\n",
       "    </tr>\n",
       "    <tr>\n",
       "      <th>15</th>\n",
       "      <td>22</td>\n",
       "      <td>406518edf1c30d599de90e2055a697fc</td>\n",
       "      <td>26</td>\n",
       "    </tr>\n",
       "    <tr>\n",
       "      <th>16</th>\n",
       "      <td>21</td>\n",
       "      <td>4942150e351df37d02b1b1008032d795</td>\n",
       "      <td>19</td>\n",
       "    </tr>\n",
       "    <tr>\n",
       "      <th>17</th>\n",
       "      <td>21</td>\n",
       "      <td>d24347fdee199ae9395ad44484e1caf7</td>\n",
       "      <td>22</td>\n",
       "    </tr>\n",
       "    <tr>\n",
       "      <th>18</th>\n",
       "      <td>20</td>\n",
       "      <td>03fa60275eb66e873c30ecb86840df4b</td>\n",
       "      <td>13</td>\n",
       "    </tr>\n",
       "    <tr>\n",
       "      <th>19</th>\n",
       "      <td>19</td>\n",
       "      <td>98c4cd327c417683cd76a2ac19fc6254</td>\n",
       "      <td>14</td>\n",
       "    </tr>\n",
       "  </tbody>\n",
       "</table>\n",
       "</div>"
      ],
      "text/plain": [
       "    freq                          Donor ID  test_freq\n",
       "0    104  39df9399f5384334a42905bcf0acdcbf         96\n",
       "1     79  237db43817f34988f9d543ca518be4ee         87\n",
       "2     51  6f74ffb17cbb2b616b1eef06bd4acd0c         45\n",
       "3     51  a0e1d358aa17745ff3d3f4e4909356f3         60\n",
       "4     42  24ecca49933c30a0beb83090591720c0         40\n",
       "5     40  a1929a1172ad0b3d14bc84f54018c563         31\n",
       "6     37  19f24640d9da49f6f8b4c9938c049591         29\n",
       "7     32  6a35a7514005c04f8520e5d8f7657d91         26\n",
       "8     31  6dd7995a998f79a8c65a0d400c9a5350         12\n",
       "9     29  eecc14ded80a38f692a590fe80c7b08f         22\n",
       "10    27  4416745560343f14a74dedcda4ec03b0         20\n",
       "11    27  74f7db06bcd9557d1e992dc029db69cc         27\n",
       "12    25  b51c76411b51751f45527c63c69ead9e         41\n",
       "13    22  0cd96e83a645971f6deb4559262b7688         20\n",
       "14    22  0e345dcdef0d2a36c9bd17bf1ac3e10a         30\n",
       "15    22  406518edf1c30d599de90e2055a697fc         26\n",
       "16    21  4942150e351df37d02b1b1008032d795         19\n",
       "17    21  d24347fdee199ae9395ad44484e1caf7         22\n",
       "18    20  03fa60275eb66e873c30ecb86840df4b         13\n",
       "19    19  98c4cd327c417683cd76a2ac19fc6254         14"
      ]
     },
     "execution_count": 29,
     "metadata": {},
     "output_type": "execute_result"
    }
   ],
   "source": [
    "##\n",
    "## Find the top donors (by number of projects)\n",
    "##\n",
    "\n",
    "MIN_FREQ = 3\n",
    "\n",
    "top_donors = pd.DataFrame(donations_train['Donor ID'].value_counts())\n",
    "top_donors.columns = ['freq']\n",
    "top_donors['Donor ID'] = top_donors.index\n",
    "top_donors = top_donors.loc[top_donors.freq >= MIN_FREQ]\n",
    "\n",
    "td_test = pd.DataFrame(donations_test.merge( top_donors, on=\"Donor ID\", how=\"inner\" ).groupby(\"Donor ID\")[\"Project ID\"].count())\n",
    "td_test.columns = ['test_freq']\n",
    "td_test = td_test.loc[td_test.test_freq >= MIN_FREQ]\n",
    "\n",
    "top_donors = top_donors.merge(td_test, on=\"Donor ID\", how=\"inner\")\n",
    "top_donors[:20]\n",
    "\n"
   ]
  },
  {
   "cell_type": "markdown",
   "metadata": {},
   "source": [
    "Here, we choose two different top donors.  For each of them, we look up the **training/past** projects and the **test/future** projects to which they donated.\n",
    "\n",
    "Then we visualize these in 2-D space using UMAP.  If there is good signal, we hope to see the training/test sets for each donor overlap but also would like to see separation between the clusters for the two donors.\n"
   ]
  },
  {
   "cell_type": "code",
   "execution_count": 39,
   "metadata": {},
   "outputs": [
    {
     "data": {
      "image/png": "[encoded data removed]",
      "text/plain": [
       "<Figure size 432x288 with 1 Axes>"
      ]
     },
     "metadata": {
      "needs_background": "light"
     },
     "output_type": "display_data"
    }
   ],
   "source": [
    "import random\n",
    "import umap\n",
    "import seaborn as sns\n",
    "\n",
    "cnt = 0\n",
    "plot_data = pd.DataFrame()\n",
    "\n",
    "for tid in [top_donors.iloc[random.choice(range(20))][\"Donor ID\"], top_donors.iloc[random.choice(range(20))][\"Donor ID\"] ]:\n",
    "    X = PF_MATRIX[np.array(get_past_donation_rows(tid)),:]\n",
    "    Y = PF_MATRIX[np.array(get_future_donation_rows(tid)),:]\n",
    "    pdata = pd.DataFrame(X.todense())\n",
    "    pdata[\"target\"] = cnt\n",
    "    cnt += 1\n",
    "    qdata = pd.DataFrame(Y.todense())\n",
    "    qdata[\"target\"] = cnt\n",
    "    cnt += 1\n",
    "    plot_data = plot_data.append(pdata)\n",
    "    plot_data = plot_data.append(qdata)\n",
    "#plot_data\n",
    "\n",
    "reducer = umap.UMAP()\n",
    "embedding = reducer.fit_transform(plot_data.drop(['target'], axis=1))\n",
    "\n",
    "plt.scatter(embedding[:, 0], embedding[:, 1], c=[sns.color_palette()[x] for x in plot_data.target])\n",
    "plt.gca().set_aspect('equal', 'datalim')\n"
   ]
  },
  {
   "cell_type": "code",
   "execution_count": null,
   "metadata": {},
   "outputs": [],
   "source": []
  }
 ],
 "metadata": {
  "kernelspec": {
   "display_name": "Python 3",
   "language": "python",
   "name": "python3"
  },
  "language_info": {
   "codemirror_mode": {
    "name": "ipython",
    "version": 3
   },
   "file_extension": ".py",
   "mimetype": "text/x-python",
   "name": "python",
   "nbconvert_exporter": "python",
   "pygments_lexer": "ipython3",
   "version": "3.7.6"
  }
 },
 "nbformat": 4,
 "nbformat_minor": 4
}
